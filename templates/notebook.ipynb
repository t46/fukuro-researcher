{
 "cells": [
  {
   "cell_type": "code",
   "execution_count": 1,
   "metadata": {},
   "outputs": [
    {
     "name": "stdout",
     "output_type": "stream",
     "text": [
      "\n",
      "'mnist' に関連する上位 5 つのデータセット:\n",
      "1. ylecun/mnist\n",
      "2. Mike0307/MNIST-M\n",
      "3. zalando-datasets/fashion_mnist\n",
      "4. Fraser/mnist-text-small\n",
      "5. p2pfl/MNIST\n",
      "\n",
      "データセット 'ylecun/mnist' の情報:\n",
      "DatasetDict({\n",
      "    train: Dataset({\n",
      "        features: ['image', 'label'],\n",
      "        num_rows: 60000\n",
      "    })\n",
      "    test: Dataset({\n",
      "        features: ['image', 'label'],\n",
      "        num_rows: 10000\n",
      "    })\n",
      "})\n",
      "\n",
      "最初のサンプル:\n",
      "{'image': <PIL.PngImagePlugin.PngImageFile image mode=L size=28x28 at 0x7F881A68DED0>, 'label': 5}\n"
     ]
    }
   ],
   "source": [
    "from datasets import load_dataset\n",
    "from huggingface_hub import HfApi\n",
    "\n",
    "def search_datasets(query, max_results=5):\n",
    "    api = HfApi()\n",
    "    results = []\n",
    "    for dataset in api.list_datasets(search=query, sort=\"downloads\", direction=-1):\n",
    "        results.append(dataset.id)\n",
    "        if len(results) == max_results:\n",
    "            break\n",
    "    return results\n",
    "\n",
    "# キーワードでデータセットを検索\n",
    "query = input(\"検索キーワードを入力: \")\n",
    "results = search_datasets(query)\n",
    "\n",
    "print(f\"\\n'{query}' に関連する上位 5 つのデータセット:\")\n",
    "for i, dataset_name in enumerate(results, 1):\n",
    "    print(f\"{i}. {dataset_name}\")\n",
    "\n",
    "# ユーザーにデータセットを選択させる\n",
    "selection = int(input(\"\\n使用するデータセットの番号を入力 (1-5): \")) - 1\n",
    "selected_dataset = results[selection]\n",
    "\n",
    "# データセットを読み込み、基本情報を表示\n",
    "dataset = load_dataset(selected_dataset)\n",
    "print(f\"\\nデータセット '{selected_dataset}' の情報:\")\n",
    "print(dataset)\n",
    "\n",
    "# 最初のサンプルを表示\n",
    "first_example = next(iter(dataset.values()))[0]\n",
    "print(\"\\n最初のサンプル:\")\n",
    "print(first_example)"
   ]
  },
  {
   "cell_type": "code",
   "execution_count": 3,
   "metadata": {},
   "outputs": [
    {
     "name": "stdout",
     "output_type": "stream",
     "text": [
      "DatasetDict({\n",
      "    train: Dataset({\n",
      "        features: ['image', 'label'],\n",
      "        num_rows: 60000\n",
      "    })\n",
      "    test: Dataset({\n",
      "        features: ['image', 'label'],\n",
      "        num_rows: 10000\n",
      "    })\n",
      "})\n"
     ]
    }
   ],
   "source": [
    "print(dataset)\n"
   ]
  }
 ],
 "metadata": {
  "kernelspec": {
   "display_name": ".venv",
   "language": "python",
   "name": "python3"
  },
  "language_info": {
   "codemirror_mode": {
    "name": "ipython",
    "version": 3
   },
   "file_extension": ".py",
   "mimetype": "text/x-python",
   "name": "python",
   "nbconvert_exporter": "python",
   "pygments_lexer": "ipython3",
   "version": "3.11.9"
  }
 },
 "nbformat": 4,
 "nbformat_minor": 2
}
